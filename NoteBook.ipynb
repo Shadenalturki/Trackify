{
 "cells": [
  {
   "cell_type": "code",
   "execution_count": 11,
   "id": "0425819d",
   "metadata": {},
   "outputs": [],
   "source": [
    "## import streamlit as st\n",
    "from datetime import datetime"
   ]
  },
  {
   "cell_type": "code",
   "execution_count": 18,
   "id": "6a91aa9d",
   "metadata": {},
   "outputs": [],
   "source": [
    "users = {} \n",
    "next_user_id = 1 "
   ]
  },
  {
   "cell_type": "code",
   "execution_count": 19,
   "id": "f0272aea",
   "metadata": {},
   "outputs": [],
   "source": [
    "def register_user(name, password):\n",
    "    global next_user_id\n",
    "    user_id = next_user_id\n",
    "    users[user_id] = {\"name\": name, \"password\": password, \"assignments\": []}\n",
    "    next_user_id += 1\n",
    "    return user_id"
   ]
  }
 ],
 "metadata": {
  "kernelspec": {
   "display_name": "venv",
   "language": "python",
   "name": "python3"
  },
  "language_info": {
   "codemirror_mode": {
    "name": "ipython",
    "version": 3
   },
   "file_extension": ".py",
   "mimetype": "text/x-python",
   "name": "python",
   "nbconvert_exporter": "python",
   "pygments_lexer": "ipython3",
   "version": "3.12.7"
  }
 },
 "nbformat": 4,
 "nbformat_minor": 5
}
