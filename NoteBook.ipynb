{
 "cells": [
  {
   "cell_type": "code",
   "execution_count": null,
   "id": "0425819d",
   "metadata": {},
   "outputs": [],
   "source": [
    "import streamlit as st\n",
    "from datetime import date\n",
    "import uuid"
   ]
  },
  {
   "cell_type": "code",
   "execution_count": 21,
   "id": "6a91aa9d",
   "metadata": {},
   "outputs": [],
   "source": [
    "users = {\n",
    "    \"Waleed\": \"1234\",\n",
    "    \"Abdullah\": \"12345\",\n",
    "    \"Shaden\": \"123456\",\n",
    "    \"Hussah\": \"1234567\"\n",
    "}"
   ]
  },
  {
   "cell_type": "code",
   "execution_count": null,
   "id": "f0272aea",
   "metadata": {},
   "outputs": [
    {
     "ename": "NameError",
     "evalue": "name 'st' is not defined",
     "output_type": "error",
     "traceback": [
      "\u001b[31m---------------------------------------------------------------------------\u001b[39m",
      "\u001b[31mNameError\u001b[39m                                 Traceback (most recent call last)",
      "\u001b[36mCell\u001b[39m\u001b[36m \u001b[39m\u001b[32mIn[22]\u001b[39m\u001b[32m, line 2\u001b[39m\n\u001b[32m      1\u001b[39m \u001b[38;5;66;03m## Start session\u001b[39;00m\n\u001b[32m----> \u001b[39m\u001b[32m2\u001b[39m \u001b[38;5;28;01mif\u001b[39;00m \u001b[33m\"\u001b[39m\u001b[33mlogged_in\u001b[39m\u001b[33m\"\u001b[39m \u001b[38;5;129;01mnot\u001b[39;00m \u001b[38;5;129;01min\u001b[39;00m \u001b[43mst\u001b[49m.session_state:\n\u001b[32m      3\u001b[39m     st.session_state.logged_in = \u001b[38;5;28;01mFalse\u001b[39;00m\n\u001b[32m      4\u001b[39m \u001b[38;5;28;01mif\u001b[39;00m \u001b[33m\"\u001b[39m\u001b[33musername\u001b[39m\u001b[33m\"\u001b[39m \u001b[38;5;129;01mnot\u001b[39;00m \u001b[38;5;129;01min\u001b[39;00m st.session_state:\n",
      "\u001b[31mNameError\u001b[39m: name 'st' is not defined"
     ]
    }
   ],
   "source": [
    "## Start session\n",
    "if \"logged_in\" not in st.session_state:\n",
    "    st.session_state.logged_in = False\n",
    "if \"username\" not in st.session_state:\n",
    "    st.session_state.username = \"\"\n",
    "if \"user_data\" not in st.session_state:\n",
    "    st.session_state.user_data = {}\n",
    "\n",
    "#Login Page\n",
    "if not st.session_state.logged_in:\n",
    "    st.title(\"🔐 College Tracker Login\")\n",
    "    username = st.text_input(\"Username\")\n",
    "    password = st.text_input(\"Password\", type=\"password\")\n",
    "\n",
    "    if st.button(\"Login\"):\n",
    "        if username in users and users[username] == password:\n",
    "            st.session_state.logged_in = True\n",
    "            st.session_state.username = username\n",
    "            if username not in st.session_state.user_data:\n",
    "                st.session_state.user_data[username] = []\n",
    "            st.success(f\"Welcome, {username}!\")\n",
    "            st.rerun()\n",
    "        else:\n",
    "            st.error(\"❌ Invalid username or password\")"
   ]
  }
 ],
 "metadata": {
  "kernelspec": {
   "display_name": "venv",
   "language": "python",
   "name": "python3"
  },
  "language_info": {
   "codemirror_mode": {
    "name": "ipython",
    "version": 3
   },
   "file_extension": ".py",
   "mimetype": "text/x-python",
   "name": "python",
   "nbconvert_exporter": "python",
   "pygments_lexer": "ipython3",
   "version": "3.12.7"
  }
 },
 "nbformat": 4,
 "nbformat_minor": 5
}
